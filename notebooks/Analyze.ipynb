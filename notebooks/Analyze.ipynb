{
 "cells": [
  {
   "cell_type": "code",
   "execution_count": null,
   "id": "de7fc711-879f-49da-9636-1b0c473a71c8",
   "metadata": {},
   "outputs": [],
   "source": [
    "import pandas as pd\n",
    "import plotly.graph_objects as go\n",
    "import plotly.express as px\n",
    "import plotly.io as pio\n",
    "#pio.renderers.default = 'colab'   # try changing this in case your plots aren't shown\n",
    "import numpy as np\n",
    "from plotly.subplots import make_subplots\n",
    "import json\n",
    "import geojson"
   ]
  },
  {
   "cell_type": "code",
   "execution_count": null,
   "id": "9757d820-3e75-440a-8f2a-aaeedfb3fe01",
   "metadata": {},
   "outputs": [],
   "source": [
    "df=pd.read_csv(\"/Users/rajendravrk/SIT/Migros-challenge/Migros-Challenge/data/processed/supermarket3.csv\")"
   ]
  },
  {
   "cell_type": "code",
   "execution_count": null,
   "id": "365a3910-df07-4605-b866-c67b70749756",
   "metadata": {},
   "outputs": [],
   "source": [
    "df.shape"
   ]
  },
  {
   "cell_type": "code",
   "execution_count": null,
   "id": "cd172e53-7eba-42fb-8306-05238b271f77",
   "metadata": {},
   "outputs": [],
   "source": [
    "del df['Unnamed: 0']"
   ]
  },
  {
   "cell_type": "code",
   "execution_count": null,
   "id": "9b5474f4-2bf8-415d-9a22-4ce5e86ac3d4",
   "metadata": {},
   "outputs": [],
   "source": [
    "del df['Unnamed: 0.1']"
   ]
  },
  {
   "cell_type": "code",
   "execution_count": null,
   "id": "b34e0290-a37e-4e56-9a14-ed4b99f5c213",
   "metadata": {},
   "outputs": [],
   "source": [
    "df.head()"
   ]
  },
  {
   "cell_type": "code",
   "execution_count": null,
   "id": "417af22b-c8ab-4192-ac44-dcb5489de6a1",
   "metadata": {},
   "outputs": [],
   "source": [
    "df_n=df['formatted_address'].str.split(',', expand=True)"
   ]
  },
  {
   "cell_type": "code",
   "execution_count": null,
   "id": "ec5b1bf0-3bd4-410a-a3ca-e4abb304c7d1",
   "metadata": {},
   "outputs": [],
   "source": [
    "del df_n[3]"
   ]
  },
  {
   "cell_type": "code",
   "execution_count": null,
   "id": "9b5681dc-4f18-4cf8-96d5-22f5a0359072",
   "metadata": {},
   "outputs": [],
   "source": [
    "del df_n[4]"
   ]
  },
  {
   "cell_type": "code",
   "execution_count": null,
   "id": "c6e87a00-f640-4352-94c9-50f4e1a49e56",
   "metadata": {},
   "outputs": [],
   "source": [
    "for i in df_n.iloc:\n",
    "    if i[2]== 'None' :\n",
    "        i[2]='Switzerland'"
   ]
  },
  {
   "cell_type": "code",
   "execution_count": null,
   "id": "edfaa9ae-9c58-469f-86c7-162e9990b5d5",
   "metadata": {},
   "outputs": [],
   "source": [
    "#df.columns = ['new_col1', 'new_col2', 'new_col3', 'new_col4']\n",
    "\n",
    "df_n.columns = ['Street', 'commune','country']\n",
    "df_n"
   ]
  },
  {
   "cell_type": "code",
   "execution_count": null,
   "id": "d8a973d8-44fb-4b08-8dcf-36b1dccddc52",
   "metadata": {},
   "outputs": [],
   "source": [
    "result = pd.concat([df, df_n], axis=1, join='inner')\n",
    "result"
   ]
  },
  {
   "cell_type": "code",
   "execution_count": null,
   "id": "1dda5386-5d71-4323-9b60-0022c2aa331f",
   "metadata": {},
   "outputs": [],
   "source": [
    "del result['price_level']"
   ]
  },
  {
   "cell_type": "code",
   "execution_count": null,
   "id": "2ebafa4f-0449-4c4a-8194-e7c29f529e95",
   "metadata": {},
   "outputs": [],
   "source": [
    "result.head()"
   ]
  },
  {
   "cell_type": "code",
   "execution_count": null,
   "id": "77dd3f75-4dcb-4a57-a6b9-d79a88db06c6",
   "metadata": {},
   "outputs": [],
   "source": [
    "f = open('/Users/rajendravrk/SIT/Migros-challenge/Migros-Challenge/data/raw/countries.geojson')\n",
    "\n",
    "# returns JSON object as \n",
    "# a dictionary\n",
    "data = json.load(f)"
   ]
  },
  {
   "cell_type": "code",
   "execution_count": null,
   "id": "2e6dc0d4-a443-42f9-bd68-3068015d52f9",
   "metadata": {},
   "outputs": [],
   "source": [
    "result.head()"
   ]
  },
  {
   "cell_type": "code",
   "execution_count": null,
   "id": "f3e2efd0-597f-4ad0-afe6-42dd49f9e171",
   "metadata": {},
   "outputs": [],
   "source": [
    "len(result.name.unique())"
   ]
  },
  {
   "cell_type": "code",
   "execution_count": null,
   "id": "cddb0f78-a0db-4397-aeee-2a9e8889efb2",
   "metadata": {},
   "outputs": [],
   "source": [
    "stores=['aldi', 'migro' , 'lidl', 'coop']"
   ]
  },
  {
   "cell_type": "code",
   "execution_count": null,
   "id": "185329a5-9985-446c-af38-cff48928c27b",
   "metadata": {},
   "outputs": [],
   "source": [
    "def get_store_name(x):\n",
    "    x=str(x)\n",
    "    x=x.lower()\n",
    "    for store in stores:\n",
    "        if store in x:\n",
    "            return store\n",
    "            "
   ]
  },
  {
   "cell_type": "code",
   "execution_count": null,
   "id": "16ca9e41-94a8-4dfa-9f84-4149ec69845e",
   "metadata": {},
   "outputs": [],
   "source": []
  },
  {
   "cell_type": "code",
   "execution_count": null,
   "id": "a32254f4-f94c-4ffc-b2e2-dc1550394c4f",
   "metadata": {},
   "outputs": [],
   "source": [
    "result['store_name'] = result['name'].apply(get_store_name)"
   ]
  },
  {
   "cell_type": "code",
   "execution_count": null,
   "id": "57a00689-6492-4be4-b921-39871533fefa",
   "metadata": {},
   "outputs": [],
   "source": [
    "result=result.dropna(subset='store_name')"
   ]
  },
  {
   "cell_type": "code",
   "execution_count": null,
   "id": "6ff7e34f-989d-44a8-9898-2b815259caaf",
   "metadata": {},
   "outputs": [],
   "source": [
    "result.head(15)"
   ]
  },
  {
   "cell_type": "markdown",
   "id": "b560832c-ef7c-469d-a622-490662bb0bfc",
   "metadata": {},
   "source": [
    "### These is data regarding plotting of 4 big supermarkets in switzerland"
   ]
  },
  {
   "cell_type": "code",
   "execution_count": null,
   "id": "8ba114e7-cd94-4c47-becb-170b0d0aafbc",
   "metadata": {},
   "outputs": [],
   "source": [
    "result.to_csv('/Users/rajendravrk/SIT/my-first-streamlitapp/Migros\\ Challenge/data/processed/supermarkets_new.csv')"
   ]
  },
  {
   "cell_type": "code",
   "execution_count": null,
   "id": "5cf381e4-5e06-40c5-b0d7-7a1796a2f122",
   "metadata": {
    "tags": []
   },
   "outputs": [],
   "source": [
    "import plotly.express as px\n",
    "\n",
    "fig = px.scatter_mapbox(result, lat='geometry.location.lat', lon='geometry.location.lng', hover_name=\"name\",\n",
    "                        zoom=7, height=30, color= 'store_name')\n",
    "fig.update_layout(mapbox_style=\"carto-positron\")\n",
    "fig.update_layout(margin={\"r\":0,\"t\":0,\"l\":0,\"b\":0}, height=800)\n",
    "fig.show()"
   ]
  },
  {
   "cell_type": "markdown",
   "id": "ac89cfae-c2b3-42a0-a051-cfbb424ce5e6",
   "metadata": {},
   "source": [
    "## 1. Approach through Macro economic Factors for new store location"
   ]
  },
  {
   "cell_type": "code",
   "execution_count": null,
   "id": "9938edff-4ba0-4f19-a870-5df078e375fc",
   "metadata": {},
   "outputs": [],
   "source": [
    "bip_kanton = pd.read_csv('/Users/rajendravrk/SIT/Migros-challenge/Migros-Challenge/data/processed/BIP_Kanton_2019.csv')\n",
    "population_df = pd.read_csv('/Users/rajendravrk/SIT/Migros-challenge/Migros-Challenge/data/processed/df_population_cleaned_final.csv')\n",
    "income_zürich_df = pd.read_csv('/Users/rajendravrk/SIT/Migros-challenge/Migros-Challenge/data/processed/income_zurich_2021.csv')\n",
    "# Open the Geojson, and change the key for the maps - BFS number, works not with a point\n",
    "with open(\"/Users/rajendravrk/SIT/Migros-challenge/Migros-Challenge/data/raw/gemeinden-geojson.geojson\") as f:\n",
    "    gj = geojson.load(f)\n",
    "\n",
    "for i in range(len(gj[\"features\"])):\n",
    "    gj[\"features\"][i]['properties']['gemeinde_BFS_NUMMER'] = gj[\"features\"][i]['properties'].pop('gemeinde.BFS_NUMMER')\n",
    "\n"
   ]
  },
  {
   "cell_type": "code",
   "execution_count": null,
   "id": "d560f0ae-a0d2-4b73-8757-4a302b76881c",
   "metadata": {},
   "outputs": [],
   "source": [
    "population_df.head(10)"
   ]
  },
  {
   "cell_type": "code",
   "execution_count": null,
   "id": "7560d511-e384-4f6a-8d80-2a01eadf6ee3",
   "metadata": {},
   "outputs": [],
   "source": [
    "#Change of the poulation in the Communes in percent, use the csv df_population_cleaned_final.csv\n",
    "\n",
    "fig_pop_change = go.Figure(go.Choroplethmapbox(geojson=gj, locations=population_df.Number_of_commune, z=population_df.Population_change_perc,\n",
    "                                    colorscale=\"Viridis\",featureidkey=\"properties.gemeinde_BFS_NUMMER\",\n",
    "                                    zmin = -20 , zmax = 30, marker_opacity=0.5, marker_line_width=0))\n",
    "\n",
    "fig_pop_change.update_layout(mapbox_style=\"carto-positron\",\n",
    "                  mapbox_zoom=6, mapbox_center =  {\"lat\": 46.8200, \"lon\": 8.4070} )\n",
    "\n",
    "fig_pop_change.update_layout(margin={\"r\":0,\"t\":0,\"l\":0,\"b\":0})\n",
    "fig_pop_change.show()\n"
   ]
  },
  {
   "cell_type": "code",
   "execution_count": null,
   "id": "01cca7e3-d871-49fa-8d26-070321d8bf1d",
   "metadata": {},
   "outputs": [],
   "source": [
    "# Show the average income for the Kanton of Zürich, use the csv income_zürich_2021.csv\n",
    "\n",
    "fig_inc = go.Figure(go.Choroplethmapbox(geojson=gj, locations=income_zürich_df.BFS_NR, z=income_zürich_df.INDIKATOR_VALUE,\n",
    "                                    colorscale=\"Viridis\",featureidkey=\"properties.gemeinde_BFS_NUMMER\",\n",
    "                                    zmin = 60000 , zmax = 100000, marker_opacity=0.5, marker_line_width=0))\n",
    "\n",
    "fig_inc.update_layout(mapbox_style=\"carto-positron\",\n",
    "                  mapbox_zoom=6, mapbox_center = {\"lat\": 47.3769, \"lon\": 8.5417})\n",
    "\n",
    "fig_inc.update_layout(margin={\"r\":0,\"t\":0,\"l\":0,\"b\":0})\n",
    "fig_inc.show()\n"
   ]
  },
  {
   "cell_type": "code",
   "execution_count": null,
   "id": "77fdaf9d-2cc2-4f12-8a21-b470e2d31e49",
   "metadata": {
    "tags": []
   },
   "outputs": [],
   "source": [
    "#GDP per Kantone, use the csv BIP_Kanton_2019.csv\n",
    "\n",
    "bip_kanton = bip_kanton.sort_values(by='GDP_2019',ascending=False)\n",
    "\n",
    "fig_gdp = px.bar(bip_kanton, x='Kanton_name', y='GDP_2019', labels={\n",
    "                     \"Kanton_name\": \"Name of the Kantones\",\n",
    "                     \"GDP_2019\": \"GDP in millions (CHF)\"})\n",
    "\n",
    "fig_gdp.update_layout(title = 'GDP in millions (CFH) per Kanton in 2019', title_x=0.5)\n",
    "fig_gdp.show()"
   ]
  },
  {
   "cell_type": "markdown",
   "id": "084bbf99-e158-41f4-a4da-cabd0ecfb17d",
   "metadata": {},
   "source": [
    "## 2. Approach through presence of other stores in each Commune"
   ]
  },
  {
   "cell_type": "code",
   "execution_count": null,
   "id": "1564f1c2-6deb-4f22-8f4b-b9a930662917",
   "metadata": {},
   "outputs": [],
   "source": [
    "merged_df_only_relevant_big_supermarkets = pd.read_csv(\"/Users/rajendravrk/SIT/Migros-challenge/Migros-Challenge/data/processed/merged_df_only_relevant_big_supermarkets.csv\")\n"
   ]
  },
  {
   "cell_type": "code",
   "execution_count": null,
   "id": "c4af0e34-eb1f-4e2a-bee7-5c25e97830ae",
   "metadata": {},
   "outputs": [],
   "source": [
    "del merged_df_only_relevant_big_supermarkets['Unnamed: 0']"
   ]
  },
  {
   "cell_type": "code",
   "execution_count": null,
   "id": "f518c977-221f-47ed-b4c1-956ccf560c7b",
   "metadata": {},
   "outputs": [],
   "source": [
    "del merged_df_only_relevant_big_supermarkets['Unnamed: 0.1']"
   ]
  },
  {
   "cell_type": "code",
   "execution_count": null,
   "id": "10988e0b-085b-45fc-b474-dd16d6896596",
   "metadata": {},
   "outputs": [],
   "source": [
    "merged_df_only_relevant_big_supermarkets.head(1)"
   ]
  },
  {
   "cell_type": "code",
   "execution_count": null,
   "id": "65b425cc-1840-481e-aacb-5bceeede1f2c",
   "metadata": {},
   "outputs": [],
   "source": [
    "# showing only the N of Supermarkets per 1000 residents\n",
    "\n",
    "fig = go.Figure(go.Choroplethmapbox(geojson=gj, locations=merged_df_only_relevant_big_supermarkets.Number_of_commune, z=merged_df_only_relevant_big_supermarkets.N_markets_per_1k_residents,\n",
    "                                    colorscale=\"RdBu\",featureidkey=\"properties.gemeinde_BFS_NUMMER\",\n",
    "                                    #text=pop_clean['text'],\n",
    "                                    zmin = 0 , zmax = 10, marker_opacity=0.5, marker_line_width=0))\n",
    "                \n",
    "fig.update_layout(mapbox_style=\"carto-positron\",\n",
    "                  mapbox_zoom=6, mapbox_center = {\"lat\": 46.8200, \"lon\": 8.4070})\n",
    "\n",
    "fig.update_layout(margin={\"r\":0,\"t\":0,\"l\":0,\"b\":0})\n",
    "fig.show()"
   ]
  },
  {
   "cell_type": "code",
   "execution_count": null,
   "id": "72fb4cde-3de6-402c-8c33-5d6d20a8ab43",
   "metadata": {},
   "outputs": [],
   "source": [
    "# showing only the big chain Supermarkets per 1000 residents\n",
    "\n",
    "\n",
    "fig = go.Figure(go.Choroplethmapbox(geojson=gj, locations=merged_df_only_relevant_big_supermarkets.Number_of_commune, z=merged_df_only_relevant_big_supermarkets.N_big_markets_per_1k_residents,\n",
    "                                    colorscale=\"Viridis\",featureidkey=\"properties.gemeinde_BFS_NUMMER\",\n",
    "                                    #text=pop_clean['text'],\n",
    "                                    zmin = 0 , zmax = 1, marker_opacity=0.5, marker_line_width=0))\n",
    "                \n",
    "fig.update_layout(mapbox_style=\"carto-positron\",\n",
    "                  mapbox_zoom=6, mapbox_center = {\"lat\": 46.8200, \"lon\": 8.4070})\n",
    "\n",
    "fig.update_layout(margin={\"r\":0,\"t\":0,\"l\":0,\"b\":0})\n",
    "\n",
    "\n",
    "\n",
    "fig.show()"
   ]
  }
 ],
 "metadata": {
  "kernelspec": {
   "display_name": "Python 3 (ipykernel)",
   "language": "python",
   "name": "python3"
  },
  "language_info": {
   "codemirror_mode": {
    "name": "ipython",
    "version": 3
   },
   "file_extension": ".py",
   "mimetype": "text/x-python",
   "name": "python",
   "nbconvert_exporter": "python",
   "pygments_lexer": "ipython3",
   "version": "3.9.12"
  }
 },
 "nbformat": 4,
 "nbformat_minor": 5
}
