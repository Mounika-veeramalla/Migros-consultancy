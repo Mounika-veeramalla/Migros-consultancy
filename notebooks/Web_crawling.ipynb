{
 "cells": [
  {
   "cell_type": "markdown",
   "id": "8f3b595a-3b33-483c-b796-1f3c44ff1ee2",
   "metadata": {},
   "source": [
    "<a id='Q0'></a>\n",
    "<center><a target=\"_blank\" href=\"https://sit.academy/\"><img src=\"https://drive.google.com/uc?id=1z0U84GYqhbWWpCenFajh8_8XFRGyOc3U\" width=\"200\" style=\"background:none; border:none; box-shadow:none;\" /></a> </center>\n",
    "<center> <h1> Data Science Toolkit : MIGROS challenge </h1> </center>\n",
    "<p style=\"margin-bottom:1cm;\"></p>\n",
    "<center><h4>SIT Academy, 2022</h4></center>\n",
    "<p style=\"margin-bottom:1cm;\"></p>\n",
    "\n",
    "<div style=\"background:#EEEDF5;border-top:0.1cm solid #EF475B;border-bottom:0.1cm solid #EF475B;\">\n",
    "    <div style=\"margin-left: 0.5cm;margin-top: 0.5cm;margin-bottom: 0.5cm;color:#303030\">\n",
    "        <p><strong>Aim of the Project:</strong> As a data scientist for Migros tasked with finding the best places to create new stores \n",
    "            1.Analyze market opportunities based on the density of existing stores\n",
    "            2.Presence of competitors\n",
    "            3.General population density to inform Migros’ development strategy.</p>\n",
    "        \n",
    "    \n",
    "</nav>"
   ]
  },
  {
   "cell_type": "code",
   "execution_count": null,
   "id": "cbf4fb4e-9915-47d6-ba68-c1ed6ca520a4",
   "metadata": {},
   "outputs": [],
   "source": [
    "import json\n",
    "import requests\n",
    "import yaml\n",
    "import pandas as pd\n",
    "import time\n",
    "import warnings\n",
    "from pandas import json_normalize\n"
   ]
  },
  {
   "cell_type": "markdown",
   "id": "576ad1f9-0471-4459-a856-8a37d61af288",
   "metadata": {},
   "source": [
    "# 1.Retrieve locations via Google Maps API:\n"
   ]
  },
  {
   "cell_type": "code",
   "execution_count": null,
   "id": "1ce5062a-e30e-4325-b82b-99f43fbe5929",
   "metadata": {},
   "outputs": [],
   "source": [
    "key_dict = yaml.load(open(\"credentials.yml\"), Loader=yaml.FullLoader)\n",
    "gmaps_key = key_dict[\"key\"]\n",
    "gmaps_key\n",
    "api_key = gmaps_key"
   ]
  },
  {
   "cell_type": "code",
   "execution_count": null,
   "id": "146f3dd7-23c9-4ea7-aa53-a3abb934e4fc",
   "metadata": {},
   "outputs": [],
   "source": [
    "warnings.simplefilter(action='ignore', category=FutureWarning)\n",
    "url=\"https://maps.googleapis.com/maps/api/place/textsearch/json?\"\n",
    "query=\"Migros, Bern\"\n",
    "df_all = pd.DataFrame()\n",
    "stores = []\n",
    "req = requests.get(url + \"query=\" + query + \"&key=\" + api_key)\n",
    "places_json = req.json()\n",
    "my_result = places_json[\"results\"]\n",
    "df_results = json_normalize(my_result)\n",
    "df_all = df_all.append(df_results, ignore_index=True)\n",
    "page_token = places_json['next_page_token']\n",
    "#print(page_token)\n",
    "#print(places_json.keys())\n",
    "count=0\n",
    "while True:\n",
    "    req = requests.get(url + \"query=\" + query + \"&key=\" + api_key + \"&pageToken=\" + page_token)\n",
    "    places_json = req.json()\n",
    "    page_token = places_json['next_page_token'] if 'next_page_token' in places_json else None\n",
    "    #print(page_token)\n",
    "    my_result = places_json[\"results\"]\n",
    "    df_results = json_normalize(my_result)\n",
    "    df_all = df_all.append(df_results, ignore_index=True)\n",
    "    count += 1\n",
    "    time.sleep(2)\n",
    "    if count == 2:\n",
    "        break"
   ]
  },
  {
   "cell_type": "code",
   "execution_count": null,
   "id": "523d13d1-2162-4d4a-ba17-9c1094438df0",
   "metadata": {},
   "outputs": [],
   "source": [
    "df=df_all.drop(['icon', 'icon_background_color', 'icon_mask_base_uri','reference','geometry.viewport.northeast.lat','geometry.viewport.northeast.lng',\n",
    "                'geometry.viewport.southwest.lat','business_status'],axis=1)\n",
    "df_n=df.drop(['geometry.viewport.southwest.lng','plus_code.compound_code', 'plus_code.global_code','photos', 'types'],axis=1)\n",
    "df_n.drop_duplicates()\n",
    "df_all.to_csv('name.csv')"
   ]
  },
  {
   "cell_type": "code",
   "execution_count": null,
   "id": "f8f0d959-4dd1-4a25-80df-5b1087f6c24e",
   "metadata": {},
   "outputs": [],
   "source": [
    "df_geo=pd.read_csv('dataframe_pop_cleaned_2.csv')"
   ]
  },
  {
   "cell_type": "code",
   "execution_count": null,
   "id": "ead85520-6dc6-46b4-a1bd-e1af9b7cdf11",
   "metadata": {},
   "outputs": [],
   "source": [
    "df_geo.head()\n",
    "#df_geo.shape  (2172, 6)"
   ]
  },
  {
   "cell_type": "code",
   "execution_count": null,
   "id": "29c28fa4-96a6-4c3c-bfb1-0c47b355edda",
   "metadata": {},
   "outputs": [],
   "source": [
    "communes=df_geo['Name_of_commune']"
   ]
  },
  {
   "cell_type": "code",
   "execution_count": null,
   "id": "42bf3f41-471f-455e-9836-9568ff0e3df5",
   "metadata": {},
   "outputs": [],
   "source": [
    "print(list(communes))"
   ]
  },
  {
   "cell_type": "code",
   "execution_count": null,
   "id": "82f5b309-d782-48bf-9f42-df4c132e39bd",
   "metadata": {},
   "outputs": [],
   "source": [
    "warnings.simplefilter(action='ignore', category=FutureWarning)\n",
    "df_all = pd.DataFrame()\n",
    "url=\"https://maps.googleapis.com/maps/api/place/textsearch/json?\"\n",
    "for commune in communes:\n",
    "    query= \"supermarkets, \" + commune\n",
    "    req = requests.get(url + \"query=\" + query + \"&key=\" + api_key)\n",
    "    places_json = req.json()\n",
    "    my_result = places_json[\"results\"]\n",
    "    df_results = json_normalize(my_result)\n",
    "    df_all = df_all.append(df_results, ignore_index=True)\n",
    "    if 'next_page_token' in places_json:\n",
    "        page_token = places_json['next_page_token']\n",
    "    #print(page_token)\n",
    "    print(places_json.keys())\n",
    "    count=0\n",
    "    while 'next_page_token' in places_json:\n",
    "        req = requests.get(url + \"query=\" + query + \"&key=\" + api_key + \"&pageToken=\" + page_token)\n",
    "        places_json = req.json()\n",
    "        page_token = places_json['next_page_token'] if 'next_page_token' in places_json else None\n",
    "    #print(page_token)\n",
    "        my_result = places_json[\"results\"]\n",
    "        df_results = json_normalize(my_result)\n",
    "        df_all = df_all.append(df_results, ignore_index=True)\n",
    "        count += 1\n",
    "        time.sleep(2)\n",
    "        if count == 3:\n",
    "            break\n",
    "    "
   ]
  },
  {
   "cell_type": "code",
   "execution_count": null,
   "id": "717150fd-010d-4d3b-a910-a4ca57dddf8c",
   "metadata": {},
   "outputs": [],
   "source": [
    "df_all.shape"
   ]
  },
  {
   "cell_type": "code",
   "execution_count": null,
   "id": "3d0c54e8-4b5e-4a25-8be1-3c132785d3ce",
   "metadata": {},
   "outputs": [],
   "source": [
    "for i in df_all:\n",
    "    print(i)"
   ]
  },
  {
   "cell_type": "code",
   "execution_count": null,
   "id": "ce2f7d1b-d2df-474d-865e-bea165631185",
   "metadata": {},
   "outputs": [],
   "source": [
    "df=df_all.drop(['icon', 'icon_background_color', 'icon_mask_base_uri','reference','geometry.viewport.northeast.lat','geometry.viewport.northeast.lng',\n",
    "                'geometry.viewport.southwest.lat','business_status'],axis=1)\n",
    "#df_all.drop(df_all.index, inplace=True)"
   ]
  },
  {
   "cell_type": "code",
   "execution_count": null,
   "id": "ece62cfa-c802-4a16-8d21-514cbb6ed81c",
   "metadata": {},
   "outputs": [],
   "source": [
    "df_n=df.drop(['geometry.viewport.southwest.lng','plus_code.compound_code', 'plus_code.global_code','photos', 'types'],axis=1)\n"
   ]
  },
  {
   "cell_type": "code",
   "execution_count": null,
   "id": "76b36c7e-9f53-45e7-9e03-fa891aa2db6c",
   "metadata": {},
   "outputs": [],
   "source": [
    "df_n1=df_n.drop_duplicates().reset_index(drop=True)"
   ]
  },
  {
   "cell_type": "code",
   "execution_count": null,
   "id": "629760e7-a3f8-4f54-bf94-633f3d374552",
   "metadata": {},
   "outputs": [],
   "source": [
    "df_n1"
   ]
  },
  {
   "cell_type": "code",
   "execution_count": null,
   "id": "30fded6e-c839-4401-b269-7a4aedd1d733",
   "metadata": {},
   "outputs": [],
   "source": [
    "df_n['formatted_address'][1].split(',')"
   ]
  },
  {
   "cell_type": "code",
   "execution_count": null,
   "id": "1aa75828-5f7c-4b95-a200-060e151e76ab",
   "metadata": {},
   "outputs": [],
   "source": [
    "df_sort=df_n1['formatted_address'].str.split(',')"
   ]
  },
  {
   "cell_type": "code",
   "execution_count": null,
   "id": "e6d5e71c-5f5a-43e6-ac2a-c91069ea7ba3",
   "metadata": {},
   "outputs": [],
   "source": [
    "df_sort.head()\n"
   ]
  },
  {
   "cell_type": "code",
   "execution_count": null,
   "id": "413f90be-e9ff-4202-932a-a47064365772",
   "metadata": {},
   "outputs": [],
   "source": []
  },
  {
   "cell_type": "code",
   "execution_count": null,
   "id": "c6adef43-1422-4925-b322-ea4469150629",
   "metadata": {},
   "outputs": [],
   "source": [
    "df_n1.to_csv('/Users/rajendravrk/SIT/my-first-streamlitapp/Migros Challenge/data/processed/supermarket1.csv')"
   ]
  }
 ],
 "metadata": {
  "kernelspec": {
   "display_name": "Python 3 (ipykernel)",
   "language": "python",
   "name": "python3"
  },
  "language_info": {
   "codemirror_mode": {
    "name": "ipython",
    "version": 3
   },
   "file_extension": ".py",
   "mimetype": "text/x-python",
   "name": "python",
   "nbconvert_exporter": "python",
   "pygments_lexer": "ipython3",
   "version": "3.9.12"
  }
 },
 "nbformat": 4,
 "nbformat_minor": 5
}
